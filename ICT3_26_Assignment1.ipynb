{
 "cells": [
  {
   "cell_type": "code",
   "execution_count": 1,
   "metadata": {},
   "outputs": [
    {
     "name": "stdout",
     "output_type": "stream",
     "text": [
      "Enter Frist No 10\n",
      "enter Second no 10\n",
      "result:  100\n"
     ]
    }
   ],
   "source": [
    "# (Q1). Given a two integer numbers return their product and  if the product is greater\n",
    "# than 1000, then return their sum\n",
    "\n",
    "\n",
    "def Product_of_sum(a,b):\n",
    "    product=a*b\n",
    "    if product>1000:\n",
    "        return a+b\n",
    "    else:\n",
    "        return product\n",
    "\n",
    "a=int(input(\"Enter Frist No \"))\n",
    "b=int(input(\"enter Second no \"))\n",
    "\n",
    "result = Product_of_sum(a,b)\n",
    "print(\"result: \",result)\n",
    "\n"
   ]
  },
  {
   "cell_type": "code",
   "execution_count": 6,
   "metadata": {},
   "outputs": [
    {
     "name": "stdout",
     "output_type": "stream",
     "text": [
      "Input a number10\n",
      "Current: 0, Previous: 0, Sum: 0\n",
      "Current: 1, Previous: 0, Sum: 1\n",
      "Current: 2, Previous: 1, Sum: 3\n",
      "Current: 3, Previous: 2, Sum: 5\n",
      "Current: 4, Previous: 3, Sum: 7\n",
      "Current: 5, Previous: 4, Sum: 9\n",
      "Current: 6, Previous: 5, Sum: 11\n",
      "Current: 7, Previous: 6, Sum: 13\n",
      "Current: 8, Previous: 7, Sum: 15\n",
      "Current: 9, Previous: 8, Sum: 17\n"
     ]
    }
   ],
   "source": [
    "# Q2. Given a range of first 10 numbers, Iterate from start number to the end number\n",
    "# and print the sum of the current number and previous numbe\n",
    "\n",
    "def sum_current_previous():\n",
    "    a=int(input(\"Input a number\"))\n",
    "    previous = 0\n",
    "    for current in range (a):\n",
    "        print(f\"Current: {current}, Previous: {previous}, Sum: {current + previous}\")\n",
    "        previous = current\n",
    "\n",
    "sum_current_previous()"
   ]
  },
  {
   "cell_type": "code",
   "execution_count": 7,
   "metadata": {},
   "outputs": [
    {
     "name": "stdout",
     "output_type": "stream",
     "text": [
      "HLOWRD\n"
     ]
    }
   ],
   "source": [
    "# 3. Given a string, display only those characters which are present at an even index number.\n",
    "\n",
    "def even_index_chars(s):\n",
    "    return s[0::2]\n",
    "\n",
    "print(even_index_chars(\"HELLO_WORLD\"))"
   ]
  },
  {
   "cell_type": "code",
   "execution_count": 12,
   "metadata": {},
   "outputs": [
    {
     "name": "stdout",
     "output_type": "stream",
     "text": [
      "True\n",
      "False\n"
     ]
    }
   ],
   "source": [
    "# 4. Given a list of numbers, return True if first and last number of a list is same\n",
    "\n",
    "def first_last_same(lst):\n",
    "    if len(lst) == 0:\n",
    "        return False\n",
    "    return lst[0] == lst[-1]\n",
    "\n",
    "\n",
    "print(first_last_same([10, 20, 30, 10]))  \n",
    "print(first_last_same([5, 6, 7,8,10,6])) \n"
   ]
  },
  {
   "cell_type": "code",
   "execution_count": 16,
   "metadata": {},
   "outputs": [
    {
     "name": "stdout",
     "output_type": "stream",
     "text": [
      "[11, 13, 15, 20, 22, 24]\n"
     ]
    }
   ],
   "source": [
    "# 5. Given a two list. Create a third list by picking an odd-index element from the first\n",
    "# list and even index elements from second.\n",
    "\n",
    "\n",
    "def merge_odd_even(list1, list2):\n",
    "    result = []\n",
    " \n",
    "    result.extend([list1[i] for i in range(1, len(list1), 2)])\n",
    "  \n",
    "    result.extend([list2[i] for i in range(0, len(list2), 2)])\n",
    "    return result\n",
    "\n",
    "\n",
    "list1 = [10, 11, 12, 13, 14, 15]\n",
    "list2 = [20, 21, 22, 23, 24, 25]\n",
    "print(merge_odd_even(list1, list2))"
   ]
  },
  {
   "cell_type": "code",
   "execution_count": null,
   "metadata": {},
   "outputs": [],
   "source": [
    "# 6. Given an input list removes the element at index 4 and add it to the 2nd position\n",
    "# and also, at the end of the list\n",
    "\n",
    "def modify_list(lst):\n",
    "    if len(lst) > 4:\n",
    "        element = lst.pop(4)\n",
    "        lst.insert(1, element)\n",
    "        lst.append(element)\n",
    "    else:\n",
    "        print(\"Enter the at list 5 element.\")\n",
    "    return lst\n",
    "\n",
    "user_input = input(\"Insert list element sepreter by comm: \")\n",
    "input_list = [x.strip() for x in user_input.split(\",\")]\n",
    "\n",
    "result = modify_list(input_list)\n",
    "print(\"Modified list:\", result)"
   ]
  },
  {
   "cell_type": "code",
   "execution_count": 20,
   "metadata": {},
   "outputs": [
    {
     "name": "stdout",
     "output_type": "stream",
     "text": [
      "[[30, 20, 10], [60, 50, 40], [90, 80, 70]]\n"
     ]
    }
   ],
   "source": [
    "\n",
    "# 7. Given a list slice it into a 3 equal chunks and reverse each list\n",
    "\n",
    "def slice_and_reverse(lst):\n",
    "    n = len(lst)\n",
    "    chunk_size = n // 3\n",
    "    chunks = [lst[i*chunk_size:(i+1)*chunk_size] for i in range(3)]\n",
    "    reversed_chunks = [chunk[::-1] for chunk in chunks]\n",
    "    return reversed_chunks\n",
    "\n",
    "my_list = [10, 20, 30, 40, 50, 60, 70, 80, 90]\n",
    "print(slice_and_reverse(my_list))\n"
   ]
  },
  {
   "cell_type": "code",
   "execution_count": 25,
   "metadata": {},
   "outputs": [
    {
     "name": "stdout",
     "output_type": "stream",
     "text": [
      "{'apple': 3, 'banana': 2, 'orange': 1}\n"
     ]
    }
   ],
   "source": [
    "# 8. Given a list iterate it and count the occurrence of each element and create a\n",
    "# dictionary to show the count of each element\n",
    "\n",
    "def count_occurrences(lst):\n",
    "    counts = {}\n",
    "    for item in lst:\n",
    "        counts[item] = counts.get(item, 0) + 1\n",
    "    return counts\n",
    "my_list = ['apple', 'banana', 'apple', 'orange', 'banana', 'apple']\n",
    "print(count_occurrences(my_list))"
   ]
  },
  {
   "cell_type": "code",
   "execution_count": 26,
   "metadata": {},
   "outputs": [
    {
     "name": "stdout",
     "output_type": "stream",
     "text": [
      "{'orange', 'yellow', 'blue', 'black'}\n"
     ]
    }
   ],
   "source": [
    "# 9. Add a list of elements to a given set: {‘yellow’,’orange’} List:[blue,black]\n",
    "\n",
    "my_set = {'yellow', 'orange'}\n",
    "new_elements = ['blue', 'black']\n",
    "\n",
    "my_set.update(new_elements)\n",
    "\n",
    "print(my_set)"
   ]
  },
  {
   "cell_type": "code",
   "execution_count": 28,
   "metadata": {},
   "outputs": [
    {
     "name": "stdout",
     "output_type": "stream",
     "text": [
      "1 \n",
      "1 2 \n",
      "1 2 3 \n",
      "1 2 3 4 \n",
      "1 2 3 4 5 \n"
     ]
    }
   ],
   "source": [
    "\n",
    "# 10. Print the following pattern\n",
    "# 1\n",
    "# 1 2\n",
    "# 1 2 3\n",
    "# 1 2 3 4\n",
    "# 1 2 3 4 5\n",
    "\n",
    "\n",
    "for i in range(1, 6):\n",
    "    for j in range(1, i + 1):\n",
    "        print(j, end=' ')\n",
    "    print()"
   ]
  },
  {
   "cell_type": "code",
   "execution_count": 29,
   "metadata": {},
   "outputs": [
    {
     "name": "stdout",
     "output_type": "stream",
     "text": [
      "55\n"
     ]
    }
   ],
   "source": [
    "# 11. calculate the sum of all number between 1 and given number\n",
    "def sum_between_1_and_n(n):\n",
    "    return sum(range(1, n + 1))\n",
    "print(sum_between_1_and_n(10))"
   ]
  },
  {
   "cell_type": "code",
   "execution_count": 32,
   "metadata": {},
   "outputs": [
    {
     "name": "stdout",
     "output_type": "stream",
     "text": [
      "10\n",
      "25\n",
      "50\n",
      "120\n"
     ]
    }
   ],
   "source": [
    "# 12. Given a list iterate it and display numbers which are divisible by 5 and if you find\n",
    "# number greater than 150 stop the loop iteration\n",
    "\n",
    "def display_divisible_by_5(lst):\n",
    "    for num in lst:\n",
    "        if num > 150:\n",
    "            break\n",
    "        if num % 5 == 0:\n",
    "            print(num)\n",
    "            \n",
    "numbers = [10, 25, 33, 50, 120, 155, 5, 200]\n",
    "display_divisible_by_5(numbers)"
   ]
  },
  {
   "cell_type": "code",
   "execution_count": 3,
   "metadata": {},
   "outputs": [
    {
     "name": "stdout",
     "output_type": "stream",
     "text": [
      "[40, 30, 20, 10]\n"
     ]
    }
   ],
   "source": [
    "# 13. Reverse the following list using for loop\n",
    "\n",
    "List1 = [10,20,30,40]\n",
    "\n",
    "reversed_list = []\n",
    "\n",
    "for i in range(len(List1) - 1, -1, -1):\n",
    "    reversed_list.append(List1[i])\n",
    "\n",
    "print(reversed_list)"
   ]
  },
  {
   "cell_type": "code",
   "execution_count": 4,
   "metadata": {},
   "outputs": [
    {
     "name": "stdout",
     "output_type": "stream",
     "text": [
      "Enter the start of the range: 10\n",
      "Enter the end of the range: 50\n",
      "Prime numbers between 10 and 50 are:\n",
      "11\n",
      "13\n",
      "17\n",
      "19\n",
      "23\n",
      "29\n",
      "31\n",
      "37\n",
      "41\n",
      "43\n",
      "47\n"
     ]
    }
   ],
   "source": [
    "# 14. Write a Python program to display all the prime numbers within a range\n",
    "\n",
    "\n",
    "start = int(input(\"Enter the start of the range: \"))\n",
    "end = int(input(\"Enter the end of the range: \"))\n",
    "\n",
    "print(f\"Prime numbers between {start} and {end} are:\")\n",
    "\n",
    "for num in range(start, end + 1):\n",
    "    if num > 1:  # primes are greater than 1\n",
    "        for i in range(2, int(num ** 0.5) + 1):\n",
    "            if num % i == 0:\n",
    "                break\n",
    "        else:\n",
    "            print(num)\n"
   ]
  },
  {
   "cell_type": "code",
   "execution_count": null,
   "metadata": {},
   "outputs": [
    {
     "name": "stdout",
     "output_type": "stream",
     "text": [
      "Toyota Corolla added to the showroom.\n",
      "Honda Civic added to the showroom.\n",
      "Tesla Model 3 added to the showroom.\n",
      "\n",
      "===== Car Showroom Menu =====\n",
      "1. View Available Cars\n",
      "2. Display Details of a Car\n",
      "3. Sell a Car\n",
      "4. Buy a Car\n",
      "5. Exit\n",
      "Enter your choice (1-5): 1\n",
      "\n",
      "Available Cars:\n",
      "  Car ID   Brand    Model  Year  Price  Color Fuel Type Transmission\n",
      " CAR8116  Toyota  Corolla  2022  20000  White    Petrol    Automatic\n",
      " CAR8272   Honda    Civic  2023  25000  Black    Petrol       Manual\n",
      " CAR3045   Tesla  Model 3  2024  45000    Red  Electric    Automatic\n",
      "\n",
      "===== Car Showroom Menu =====\n",
      "1. View Available Cars\n",
      "2. Display Details of a Car\n",
      "3. Sell a Car\n",
      "4. Buy a Car\n",
      "5. Exit\n",
      "Enter your choice (1-5): 2\n",
      "Enter Car ID to view details: CAR8116\n",
      "\n",
      "Car Details:\n",
      "  Car ID   Brand    Model  Year  Price  Color Fuel Type Transmission\n",
      " CAR8116  Toyota  Corolla  2022  20000  White    Petrol    Automatic\n",
      "\n",
      "===== Car Showroom Menu =====\n",
      "1. View Available Cars\n",
      "2. Display Details of a Car\n",
      "3. Sell a Car\n",
      "4. Buy a Car\n",
      "5. Exit\n",
      "Enter your choice (1-5): 3\n",
      "Enter Car ID to sell: CAR8116\n",
      "Car Toyota Corolla (ID: CAR8116) sold successfully.\n",
      "\n",
      "===== Car Showroom Menu =====\n",
      "1. View Available Cars\n",
      "2. Display Details of a Car\n",
      "3. Sell a Car\n",
      "4. Buy a Car\n",
      "5. Exit\n",
      "Enter your choice (1-5): 1\n",
      "\n",
      "Available Cars:\n",
      "  Car ID  Brand    Model  Year  Price  Color Fuel Type Transmission\n",
      " CAR8272  Honda    Civic  2023  25000  Black    Petrol       Manual\n",
      " CAR3045  Tesla  Model 3  2024  45000    Red  Electric    Automatic\n",
      "\n",
      "===== Car Showroom Menu =====\n",
      "1. View Available Cars\n",
      "2. Display Details of a Car\n",
      "3. Sell a Car\n",
      "4. Buy a Car\n",
      "5. Exit\n",
      "Enter your choice (1-5): 1\n",
      "\n",
      "Available Cars:\n",
      "  Car ID  Brand    Model  Year  Price  Color Fuel Type Transmission\n",
      " CAR8272  Honda    Civic  2023  25000  Black    Petrol       Manual\n",
      " CAR3045  Tesla  Model 3  2024  45000    Red  Electric    Automatic\n",
      "\n",
      "===== Car Showroom Menu =====\n",
      "1. View Available Cars\n",
      "2. Display Details of a Car\n",
      "3. Sell a Car\n",
      "4. Buy a Car\n",
      "5. Exit\n",
      "Enter your choice (1-5): 2\n",
      "Enter Car ID to view details: CAR8272\n",
      "\n",
      "Car Details:\n",
      "  Car ID  Brand  Model  Year  Price  Color Fuel Type Transmission\n",
      " CAR8272  Honda  Civic  2023  25000  Black    Petrol       Manual\n",
      "\n",
      "===== Car Showroom Menu =====\n",
      "1. View Available Cars\n",
      "2. Display Details of a Car\n",
      "3. Sell a Car\n",
      "4. Buy a Car\n",
      "5. Exit\n",
      "Enter your choice (1-5): 4\n",
      "Enter car details to add:\n",
      "Brand: Hunday\n",
      "Model: Xent\n",
      "Year: 2023\n",
      "Price: 2500000\n",
      "Color: White\n",
      "Fuel Type: Desile\n",
      "Transmission: Manual\n",
      "Hunday Xent added to the showroom.\n",
      "\n",
      "===== Car Showroom Menu =====\n",
      "1. View Available Cars\n",
      "2. Display Details of a Car\n",
      "3. Sell a Car\n",
      "4. Buy a Car\n",
      "5. Exit\n",
      "Enter your choice (1-5): 1\n",
      "\n",
      "Available Cars:\n",
      "  Car ID   Brand    Model  Year      Price  Color Fuel Type Transmission\n",
      " CAR8272   Honda    Civic  2023    25000.0  Black    Petrol       Manual\n",
      " CAR3045   Tesla  Model 3  2024    45000.0    Red  Electric    Automatic\n",
      " CAR3823  Hunday     Xent  2023  2500000.0  White    Desile       Manual\n",
      "\n",
      "===== Car Showroom Menu =====\n",
      "1. View Available Cars\n",
      "2. Display Details of a Car\n",
      "3. Sell a Car\n",
      "4. Buy a Car\n",
      "5. Exit\n"
     ]
    }
   ],
   "source": [
    "# 15. Write a Python program for a Car Show room that sells cars of different brans of different price.\n",
    "# Consider all features of a car and develop an OOP program that has following functionalities:\n",
    "\n",
    "\n",
    "import pandas as pd\n",
    "import numpy as np\n",
    "\n",
    "\n",
    "class Car:\n",
    "    def __init__(self, car_id, brand, model, year, price, color, fuel_type, transmission):\n",
    "        self.car_id = car_id\n",
    "        self.brand = brand\n",
    "        self.model = model\n",
    "        self.year = year\n",
    "        self.price = price\n",
    "        self.color = color\n",
    "        self.fuel_type = fuel_type\n",
    "        self.transmission = transmission\n",
    "\n",
    "    def get_details(self):\n",
    "        return {\n",
    "            \"Car ID\": self.car_id,\n",
    "            \"Brand\": self.brand,\n",
    "            \"Model\": self.model,\n",
    "            \"Year\": self.year,\n",
    "            \"Price\": self.price,\n",
    "            \"Color\": self.color,\n",
    "            \"Fuel Type\": self.fuel_type,\n",
    "            \"Transmission\": self.transmission\n",
    "        }\n",
    "\n",
    "\n",
    "class Showroom:\n",
    "    def __init__(self):\n",
    "        self.inventory = []\n",
    "\n",
    "    def add_car(self, car):\n",
    "        self.inventory.append(car)\n",
    "        print(f\"{car.brand} {car.model} added to the showroom.\")\n",
    "\n",
    "    def view_available_cars(self):\n",
    "        if not self.inventory:\n",
    "            print(\"No cars currently available.\")\n",
    "            return\n",
    "\n",
    "        data = [car.get_details() for car in self.inventory]\n",
    "        df = pd.DataFrame(data)\n",
    "        print(\"\\nAvailable Cars:\")\n",
    "        print(df.to_string(index=False))\n",
    "\n",
    "    def display_car_details(self, car_id):\n",
    "        found = False\n",
    "        for car in self.inventory:\n",
    "            if car.car_id == car_id:\n",
    "                df = pd.DataFrame([car.get_details()])\n",
    "                print(\"\\nCar Details:\")\n",
    "                print(df.to_string(index=False))\n",
    "                found = True\n",
    "                break\n",
    "        if not found:\n",
    "            print(f\"No car found with ID: {car_id}\")\n",
    "\n",
    "    def sell_car(self, car_id):\n",
    "        try:\n",
    "            car = next(car for car in self.inventory if car.car_id == car_id)\n",
    "            self.inventory.remove(car)\n",
    "            print(f\"Car {car.brand} {car.model} (ID: {car_id}) sold successfully.\")\n",
    "        except StopIteration:\n",
    "            print(f\"Error: Car with ID {car_id} not found. Cannot sell.\")\n",
    "\n",
    "    def buy_car(self, brand, model, year, price, color, fuel_type, transmission):\n",
    "        try:\n",
    "            \n",
    "            car_id = \"CAR\" + str(np.random.randint(1000, 9999))\n",
    "            new_car = Car(car_id, brand, model, year, price, color, fuel_type, transmission)\n",
    "            self.add_car(new_car)\n",
    "        except Exception as e:\n",
    "            print(f\"Error while buying car: {str(e)}\")\n",
    "\n",
    "\n",
    "\n",
    "if __name__ == \"__main__\":\n",
    "    showroom = Showroom()\n",
    "\n",
    "    # Adding some cars initially\n",
    "    showroom.buy_car(\"Toyota\", \"Corolla\", 2022, 20000, \"White\", \"Petrol\", \"Automatic\")\n",
    "    showroom.buy_car(\"Honda\", \"Civic\", 2023, 25000, \"Black\", \"Petrol\", \"Manual\")\n",
    "    showroom.buy_car(\"Tesla\", \"Model 3\", 2024, 45000, \"Red\", \"Electric\", \"Automatic\")\n",
    "\n",
    "    while True:\n",
    "        print(\"\\n===== Car Showroom Menu =====\")\n",
    "        print(\"1. View Available Cars\")\n",
    "        print(\"2. Display Details of a Car\")\n",
    "        print(\"3. Sell a Car\")\n",
    "        print(\"4. Buy a Car\")\n",
    "        print(\"5. Exit\")\n",
    "        choice = input(\"Enter your choice (1-5): \")\n",
    "\n",
    "        if choice == \"1\":\n",
    "            showroom.view_available_cars()\n",
    "\n",
    "        elif choice == \"2\":\n",
    "            car_id = input(\"Enter Car ID to view details: \")\n",
    "            showroom.display_car_details(car_id)\n",
    "\n",
    "        elif choice == \"3\":\n",
    "            car_id = input(\"Enter Car ID to sell: \")\n",
    "            showroom.sell_car(car_id)\n",
    "\n",
    "        elif choice == \"4\":\n",
    "            print(\"Enter car details to add:\")\n",
    "            brand = input(\"Brand: \")\n",
    "            model = input(\"Model: \")\n",
    "            try:\n",
    "                year = int(input(\"Year: \"))\n",
    "                price = float(input(\"Price: \"))\n",
    "            except ValueError:\n",
    "                print(\"Invalid year or price. Please enter numeric values.\")\n",
    "                continue\n",
    "            color = input(\"Color: \")\n",
    "            fuel_type = input(\"Fuel Type: \")\n",
    "            transmission = input(\"Transmission: \")\n",
    "            showroom.buy_car(brand, model, year, price, color, fuel_type, transmission)\n",
    "\n",
    "        elif choice == \"5\":\n",
    "            print(\"Exiting showroom system.\")\n",
    "            break\n",
    "\n",
    "        else:\n",
    "            print(\"Invalid choice. Please select a number from 1 to 5.\")\n"
   ]
  },
  {
   "cell_type": "code",
   "execution_count": null,
   "metadata": {},
   "outputs": [],
   "source": []
  },
  {
   "cell_type": "code",
   "execution_count": null,
   "metadata": {},
   "outputs": [],
   "source": []
  }
 ],
 "metadata": {
  "kernelspec": {
   "display_name": "Python 3",
   "language": "python",
   "name": "python3"
  },
  "language_info": {
   "codemirror_mode": {
    "name": "ipython",
    "version": 3
   },
   "file_extension": ".py",
   "mimetype": "text/x-python",
   "name": "python",
   "nbconvert_exporter": "python",
   "pygments_lexer": "ipython3",
   "version": "3.7.6"
  }
 },
 "nbformat": 4,
 "nbformat_minor": 4
}
